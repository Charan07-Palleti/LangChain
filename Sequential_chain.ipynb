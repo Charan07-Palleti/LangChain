{
  "nbformat": 4,
  "nbformat_minor": 0,
  "metadata": {
    "colab": {
      "provenance": [],
      "authorship_tag": "ABX9TyPCjoXRoj68jika5DVTy4du",
      "include_colab_link": true
    },
    "kernelspec": {
      "name": "python3",
      "display_name": "Python 3"
    },
    "language_info": {
      "name": "python"
    }
  },
  "cells": [
    {
      "cell_type": "markdown",
      "metadata": {
        "id": "view-in-github",
        "colab_type": "text"
      },
      "source": [
        "<a href=\"https://colab.research.google.com/github/Charan07-Palleti/LangChain/blob/main/Sequential_chain.ipynb\" target=\"_parent\"><img src=\"https://colab.research.google.com/assets/colab-badge.svg\" alt=\"Open In Colab\"/></a>"
      ]
    },
    {
      "cell_type": "code",
      "execution_count": 1,
      "metadata": {
        "colab": {
          "base_uri": "https://localhost:8080/"
        },
        "id": "5IU964WHBPW9",
        "outputId": "b78dc9a1-e436-4084-9b5e-cd4c2e5ba2c4"
      },
      "outputs": [
        {
          "output_type": "stream",
          "name": "stdout",
          "text": [
            "\u001b[2K     \u001b[90m━━━━━━━━━━━━━━━━━━━━━━━━━━━━━━━━━━━━━━━━\u001b[0m \u001b[32m46.2/46.2 kB\u001b[0m \u001b[31m1.6 MB/s\u001b[0m eta \u001b[36m0:00:00\u001b[0m\n",
            "\u001b[2K   \u001b[90m━━━━━━━━━━━━━━━━━━━━━━━━━━━━━━━━━━━━━━━━\u001b[0m \u001b[32m239.4/239.4 kB\u001b[0m \u001b[31m11.5 MB/s\u001b[0m eta \u001b[36m0:00:00\u001b[0m\n",
            "\u001b[?25h"
          ]
        }
      ],
      "source": [
        "!pip install -q -U google-genai"
      ]
    },
    {
      "cell_type": "code",
      "source": [
        "from google.colab import userdata\n",
        "API_KEY = userdata.get('GOOGLE_API_KEY')"
      ],
      "metadata": {
        "id": "O95HAcqEBs-s"
      },
      "execution_count": 3,
      "outputs": []
    },
    {
      "cell_type": "code",
      "source": [
        "!pip install -qU langchain-google-genai"
      ],
      "metadata": {
        "colab": {
          "base_uri": "https://localhost:8080/"
        },
        "id": "AL3o3ra2CIwS",
        "outputId": "8bf3a3bb-7da7-40f7-ba3d-6dc22b791c67"
      },
      "execution_count": 4,
      "outputs": [
        {
          "output_type": "stream",
          "name": "stdout",
          "text": [
            "\u001b[?25l   \u001b[90m━━━━━━━━━━━━━━━━━━━━━━━━━━━━━━━━━━━━━━━━\u001b[0m \u001b[32m0.0/57.8 kB\u001b[0m \u001b[31m?\u001b[0m eta \u001b[36m-:--:--\u001b[0m\r\u001b[2K   \u001b[90m━━━━━━━━━━━━━━━━━━━━━━━━━━━━━━━━━━━━━━━━\u001b[0m \u001b[32m57.8/57.8 kB\u001b[0m \u001b[31m3.6 MB/s\u001b[0m eta \u001b[36m0:00:00\u001b[0m\n",
            "\u001b[?25h\u001b[?25l   \u001b[90m━━━━━━━━━━━━━━━━━━━━━━━━━━━━━━━━━━━━━━━━\u001b[0m \u001b[32m0.0/1.4 MB\u001b[0m \u001b[31m?\u001b[0m eta \u001b[36m-:--:--\u001b[0m\r\u001b[2K   \u001b[91m━━━━━━━━━━━━━━━━━━━━━━━━━━━━━━━━━━━━━━━\u001b[0m\u001b[91m╸\u001b[0m \u001b[32m1.4/1.4 MB\u001b[0m \u001b[31m71.6 MB/s\u001b[0m eta \u001b[36m0:00:01\u001b[0m\r\u001b[2K   \u001b[90m━━━━━━━━━━━━━━━━━━━━━━━━━━━━━━━━━━━━━━━━\u001b[0m \u001b[32m1.4/1.4 MB\u001b[0m \u001b[31m38.5 MB/s\u001b[0m eta \u001b[36m0:00:00\u001b[0m\n",
            "\u001b[?25h\u001b[?25l   \u001b[90m━━━━━━━━━━━━━━━━━━━━━━━━━━━━━━━━━━━━━━━━\u001b[0m \u001b[32m0.0/467.2 kB\u001b[0m \u001b[31m?\u001b[0m eta \u001b[36m-:--:--\u001b[0m\r\u001b[2K   \u001b[90m━━━━━━━━━━━━━━━━━━━━━━━━━━━━━━━━━━━━━━━━\u001b[0m \u001b[32m467.2/467.2 kB\u001b[0m \u001b[31m30.1 MB/s\u001b[0m eta \u001b[36m0:00:00\u001b[0m\n",
            "\u001b[?25h\u001b[31mERROR: pip's dependency resolver does not currently take into account all the packages that are installed. This behaviour is the source of the following dependency conflicts.\n",
            "google-generativeai 0.8.5 requires google-ai-generativelanguage==0.6.15, but you have google-ai-generativelanguage 0.9.0 which is incompatible.\n",
            "langchain 0.3.27 requires langchain-core<1.0.0,>=0.3.72, but you have langchain-core 1.0.0 which is incompatible.\u001b[0m\u001b[31m\n",
            "\u001b[0m"
          ]
        }
      ]
    },
    {
      "cell_type": "code",
      "source": [
        "from langchain_google_genai import ChatGoogleGenerativeAI\n",
        "\n",
        "model = ChatGoogleGenerativeAI(model=\"gemini-2.0-flash\",api_key=API_KEY)\n",
        "!pip install langchain-core"
      ],
      "metadata": {
        "colab": {
          "base_uri": "https://localhost:8080/"
        },
        "id": "D5mwYUSZCbgb",
        "outputId": "7be3bd40-44b4-457c-9bfe-1727bec03e6c"
      },
      "execution_count": 6,
      "outputs": [
        {
          "output_type": "stream",
          "name": "stdout",
          "text": [
            "Requirement already satisfied: langchain-core in /usr/local/lib/python3.12/dist-packages (1.0.0)\n",
            "Requirement already satisfied: jsonpatch<2.0.0,>=1.33.0 in /usr/local/lib/python3.12/dist-packages (from langchain-core) (1.33)\n",
            "Requirement already satisfied: langsmith<1.0.0,>=0.3.45 in /usr/local/lib/python3.12/dist-packages (from langchain-core) (0.4.37)\n",
            "Requirement already satisfied: packaging<26.0.0,>=23.2.0 in /usr/local/lib/python3.12/dist-packages (from langchain-core) (25.0)\n",
            "Requirement already satisfied: pydantic<3.0.0,>=2.7.4 in /usr/local/lib/python3.12/dist-packages (from langchain-core) (2.11.10)\n",
            "Requirement already satisfied: pyyaml<7.0.0,>=5.3.0 in /usr/local/lib/python3.12/dist-packages (from langchain-core) (6.0.3)\n",
            "Requirement already satisfied: tenacity!=8.4.0,<10.0.0,>=8.1.0 in /usr/local/lib/python3.12/dist-packages (from langchain-core) (8.5.0)\n",
            "Requirement already satisfied: typing-extensions<5.0.0,>=4.7.0 in /usr/local/lib/python3.12/dist-packages (from langchain-core) (4.15.0)\n",
            "Requirement already satisfied: jsonpointer>=1.9 in /usr/local/lib/python3.12/dist-packages (from jsonpatch<2.0.0,>=1.33.0->langchain-core) (3.0.0)\n",
            "Requirement already satisfied: httpx<1,>=0.23.0 in /usr/local/lib/python3.12/dist-packages (from langsmith<1.0.0,>=0.3.45->langchain-core) (0.28.1)\n",
            "Requirement already satisfied: orjson>=3.9.14 in /usr/local/lib/python3.12/dist-packages (from langsmith<1.0.0,>=0.3.45->langchain-core) (3.11.3)\n",
            "Requirement already satisfied: requests-toolbelt>=1.0.0 in /usr/local/lib/python3.12/dist-packages (from langsmith<1.0.0,>=0.3.45->langchain-core) (1.0.0)\n",
            "Requirement already satisfied: requests>=2.0.0 in /usr/local/lib/python3.12/dist-packages (from langsmith<1.0.0,>=0.3.45->langchain-core) (2.32.4)\n",
            "Requirement already satisfied: zstandard>=0.23.0 in /usr/local/lib/python3.12/dist-packages (from langsmith<1.0.0,>=0.3.45->langchain-core) (0.25.0)\n",
            "Requirement already satisfied: annotated-types>=0.6.0 in /usr/local/lib/python3.12/dist-packages (from pydantic<3.0.0,>=2.7.4->langchain-core) (0.7.0)\n",
            "Requirement already satisfied: pydantic-core==2.33.2 in /usr/local/lib/python3.12/dist-packages (from pydantic<3.0.0,>=2.7.4->langchain-core) (2.33.2)\n",
            "Requirement already satisfied: typing-inspection>=0.4.0 in /usr/local/lib/python3.12/dist-packages (from pydantic<3.0.0,>=2.7.4->langchain-core) (0.4.2)\n",
            "Requirement already satisfied: anyio in /usr/local/lib/python3.12/dist-packages (from httpx<1,>=0.23.0->langsmith<1.0.0,>=0.3.45->langchain-core) (4.11.0)\n",
            "Requirement already satisfied: certifi in /usr/local/lib/python3.12/dist-packages (from httpx<1,>=0.23.0->langsmith<1.0.0,>=0.3.45->langchain-core) (2025.10.5)\n",
            "Requirement already satisfied: httpcore==1.* in /usr/local/lib/python3.12/dist-packages (from httpx<1,>=0.23.0->langsmith<1.0.0,>=0.3.45->langchain-core) (1.0.9)\n",
            "Requirement already satisfied: idna in /usr/local/lib/python3.12/dist-packages (from httpx<1,>=0.23.0->langsmith<1.0.0,>=0.3.45->langchain-core) (3.11)\n",
            "Requirement already satisfied: h11>=0.16 in /usr/local/lib/python3.12/dist-packages (from httpcore==1.*->httpx<1,>=0.23.0->langsmith<1.0.0,>=0.3.45->langchain-core) (0.16.0)\n",
            "Requirement already satisfied: charset_normalizer<4,>=2 in /usr/local/lib/python3.12/dist-packages (from requests>=2.0.0->langsmith<1.0.0,>=0.3.45->langchain-core) (3.4.4)\n",
            "Requirement already satisfied: urllib3<3,>=1.21.1 in /usr/local/lib/python3.12/dist-packages (from requests>=2.0.0->langsmith<1.0.0,>=0.3.45->langchain-core) (2.5.0)\n",
            "Requirement already satisfied: sniffio>=1.1 in /usr/local/lib/python3.12/dist-packages (from anyio->httpx<1,>=0.23.0->langsmith<1.0.0,>=0.3.45->langchain-core) (1.3.1)\n"
          ]
        }
      ]
    },
    {
      "cell_type": "code",
      "source": [
        "from typing_extensions import final\n",
        "from langchain_core.prompts import PromptTemplate\n",
        "from langchain_core.output_parsers import StrOutputParser\n",
        "\n",
        "prompt1 = PromptTemplate(\n",
        "    template=\"translate the english movie review into telugu language review: {review}\",\n",
        "    input_variables=[\"review\"],\n",
        ")\n",
        "\n",
        "prompt2= PromptTemplate(\n",
        "    template=\"summarize this telugu review in telugu language : {review}\",\n",
        "    input_variables=[\"review\"],\n",
        ")\n",
        "review_input = \"\"\"I have to try and review this without comparing it to anything directly, because it's not really comparable to other action blockbusters that have disappointed me recently. But I can say that for large-scale, big-budget action movies, this is how you do it right. Hollywood isn't incapable of making movies that deliver excitement and emotion, but many pale in comparison to RRR. Again without pointing out any movies in particular (because I don't know what's directly comparable), Hollywood should take notes.\n",
        "\n",
        "RRR has many familiar tropes and beats that you get out of historical epics/action movies, but it uses those tropes well. Things we've seen on-screen dozens of times before can still be exciting and entertaining if they're used properly, and RRR is a testament to that.\n",
        "\n",
        "The amazing action is probably what stands out the most, but at its core, this film also has a really good story with heroes you want to see win and villains you want to see defeated. There's some extra conflict between the two main heroes for much of the movie, but ultimately it's a good vs evil story that's pretty straightforward and honest about that, and thanks to the great characters and strong performances, that ends up being enough.\n",
        "\n",
        "There's very little by way of slow scenes or dead air, and another reason the three hour runtime flies by is because the action is so good. I complain about lacklustre action in modern action movies a lot, and so I was really happy to find that RRR does its action so well. Amazing stunts, great setups for the big set piece scenes, a level of brutality that makes you feel the impact of the combat (but not too much that it feels gratuitous), and a way of making things over-the-top in the best way possible (so not to the point where it feels like there are no rules or consequences for the good guys). The two main heroes in this are almost superheroes, which arguably makes RRR the best superhero film in years.\n",
        "\n",
        "Excellent stuff. A couple of lesser performances from minor characters and some occasionally clunky English dialogue from the British characters is all I could criticise it for, and they're nitpicks. This is a great action movie and an epic that more than warrants its three hour runtime. \"\"\"\n",
        "\n",
        "parse = StrOutputParser()\n",
        "\n",
        "chain1 = prompt1 | model | parse\n",
        "chain2 = prompt2 | model | parse\n",
        "final_chain = chain1 | chain2\n",
        "result = final_chain.invoke({\"review\" : review_input})\n",
        "print(result)\n"
      ],
      "metadata": {
        "colab": {
          "base_uri": "https://localhost:8080/"
        },
        "id": "H6DGm4HTC-PF",
        "outputId": "317e7b25-8131-49db-8aa3-fc4ecf58e930"
      },
      "execution_count": 14,
      "outputs": [
        {
          "output_type": "stream",
          "name": "stdout",
          "text": [
            "సమీక్షకుడు RRR సినిమాని ఇతర యాక్షన్ సినిమాలతో పోల్చడానికి ఇష్టపడకపోయినా, ఇది భారీ బడ్జెట్ యాక్షన్ సినిమాలను ఎలా తీయాలో చూపిస్తుందని అంటున్నారు. హాలీవుడ్ ఈ సినిమా నుండి పాఠాలు నేర్చుకోవాలని సూచిస్తున్నారు. RRRలో సాధారణ అంశాలు ఉన్నప్పటికీ, వాటిని చాలా బాగా ఉపయోగించారని, దీనివల్ల సినిమా ఉత్తేజకరంగా, వినోదాత్మకంగా ఉందని చెబుతున్నారు. అద్భుతమైన యాక్షన్‌తో పాటు మంచి కథ కూడా ఉండటం సినిమాకి ప్లస్ పాయింట్. హీరోలు గెలవాలని, విలన్లు ఓడిపోవాలని ప్రేక్షకులు కోరుకునేలా సినిమా ఉంటుందని తెలిపారు. సినిమాలో నెమ్మదిగా సాగే సన్నివేశాలు తక్కువగా ఉండటం, యాక్షన్ సన్నివేశాలు బాగుండటం వల్ల మూడు గంటల నిడివి కూడా త్వరగా గడిచిపోతుంది. యాక్షన్ సన్నివేశాలు అద్భుతంగా ఉన్నాయని, స్టంట్స్, సెట్ పీస్ సన్నివేశాలు, పోరాటంలోని క్రూరత్వం అన్నీ బాగా చూపించారని సమీక్షకుడు మెచ్చుకున్నారు. RRRని సంవత్సరాలలో ఉత్తమ సూపర్ హీరో చిత్రంగా అభివర్ణించారు. చిన్న పాత్రధారుల నటన, బ్రిటిష్ పాత్రల ఆంగ్ల సంభాషణలు కొంచెం వింతగా ఉన్నాయని విమర్శించినప్పటికీ, ఇది ఒక గొప్ప యాక్షన్ సినిమా అని, మూడు గంటల నిడివికి అర్హమైన ఇతిహాసం అని కొనియాడారు.\n"
          ]
        }
      ]
    }
  ]
}